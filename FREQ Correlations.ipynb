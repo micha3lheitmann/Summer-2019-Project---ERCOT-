{
 "cells": [
  {
   "cell_type": "code",
   "execution_count": 1,
   "metadata": {},
   "outputs": [],
   "source": [
    "# This notebook contains an introduction to use of Python, pandas and SciPy for basic analysis of weather data and Frequency. \n",
    "# It contains no contributions to meteorological science, but illustrates how to generate simple plots and basic \n",
    "# model fitting to some real physical observations.\n",
    "# Hourly Data from Yes Energy Summer 2019 \n",
    "# Original notebook... see below\n",
    "\n",
    "# https://risk-engineering.org/notebook/data-analysis-weather.html"
   ]
  },
  {
   "cell_type": "code",
   "execution_count": 3,
   "metadata": {},
   "outputs": [],
   "source": [
    "import numpy\n",
    "import scipy.stats\n",
    "import pandas\n",
    "import matplotlib.pyplot as plt\n",
    "from cycler import cycler\n",
    "plt.style.use('dark_background')\n",
    "# plt.style.use(\"bmh\")\n",
    "plt.rcParams[\"figure.figsize\"]=20,15"
   ]
  },
  {
   "cell_type": "code",
   "execution_count": null,
   "metadata": {},
   "outputs": [],
   "source": [
    "data = pandas.read_csv(\"weather_price_summer2019.csv\")\n",
    "data.head()"
   ]
  }
 ],
 "metadata": {
  "kernelspec": {
   "display_name": "Python 3",
   "language": "python",
   "name": "python3"
  },
  "language_info": {
   "codemirror_mode": {
    "name": "ipython",
    "version": 3
   },
   "file_extension": ".py",
   "mimetype": "text/x-python",
   "name": "python",
   "nbconvert_exporter": "python",
   "pygments_lexer": "ipython3",
   "version": "3.7.4"
  }
 },
 "nbformat": 4,
 "nbformat_minor": 2
}
